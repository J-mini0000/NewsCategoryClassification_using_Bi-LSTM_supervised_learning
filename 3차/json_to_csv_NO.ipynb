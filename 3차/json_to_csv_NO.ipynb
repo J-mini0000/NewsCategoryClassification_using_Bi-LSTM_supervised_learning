{
 "cells": [
  {
   "cell_type": "code",
   "execution_count": null,
   "metadata": {},
   "outputs": [],
   "source": [
    "import json\n",
    "import pandas as pd\n",
    "import numpy as np\n",
    "from collections import Counter\n",
    "import collections"
   ]
  },
  {
   "cell_type": "markdown",
   "metadata": {},
   "source": [
    "# 1.데이터 가져오기"
   ]
  },
  {
   "cell_type": "code",
   "execution_count": null,
   "metadata": {},
   "outputs": [],
   "source": [
    "with open('./watson_ko/20220204.json', 'r', encoding=\"UTF-8\") as f:\n",
    "    json_data02 = json.load(f)\n",
    "with open('./watson_ko/20220304.json', 'r', encoding=\"UTF-8\") as f:\n",
    "    json_data03 = json.load(f)\n",
    "with open('./watson_ko/20220404.json', 'r', encoding=\"UTF-8\") as f:\n",
    "    json_data04 = json.load(f)\n",
    "with open('./watson_ko/20220504.json', 'r', encoding=\"UTF-8\") as f:\n",
    "    json_data05 = json.load(f)\n",
    "with open('./watson_ko/20220604.json', 'r', encoding=\"UTF-8\") as f:\n",
    "    json_data06 = json.load(f)\n",
    "with open('./watson_ko/20220704.json', 'r', encoding=\"UTF-8\") as f:\n",
    "    json_data07 = json.load(f)\n",
    "with open('./watson_ko/20220804.json', 'r', encoding=\"UTF-8\") as f:\n",
    "    json_data08 = json.load(f)"
   ]
  },
  {
   "cell_type": "code",
   "execution_count": null,
   "metadata": {},
   "outputs": [],
   "source": [
    "# print(json_data02[\"data_investing\"])\n",
    "# print(json_data03[\"data_investing\"])\n",
    "# print(json_data04[\"data_investing\"])\n",
    "# print(json_data05[\"data_investing\"])\n",
    "# print(json_data06[\"data_investing\"])\n",
    "# print(json_data07[\"data_investing\"])\n",
    "# print(json_data08[\"data_investing\"])"
   ]
  },
  {
   "cell_type": "code",
   "execution_count": null,
   "metadata": {},
   "outputs": [],
   "source": [
    "print(type(json_data02[\"data_investing\"]))\n",
    "json_datas=json_data02[\"data_investing\"]+json_data03[\"data_investing\"]+json_data04[\"data_investing\"]+json_data05[\"data_investing\"]+json_data06[\"data_investing\"]+json_data07[\"data_investing\"]+json_data08[\"data_investing\"]\n",
    "print(len(json_datas))"
   ]
  },
  {
   "cell_type": "code",
   "execution_count": null,
   "metadata": {},
   "outputs": [],
   "source": [
    "print(len(json_data02[\"data_investing\"]))\n",
    "print(len(json_data03[\"data_investing\"]))\n",
    "print(len(json_data04[\"data_investing\"]))\n",
    "print(len(json_data05[\"data_investing\"]))\n",
    "print(len(json_data06[\"data_investing\"]))\n",
    "print(len(json_data07[\"data_investing\"]))\n",
    "print(len(json_data08[\"data_investing\"]))\n",
    "list1=[(json_data02[\"data_investing\"]),(json_data03[\"data_investing\"]),(json_data04[\"data_investing\"]),(json_data05[\"data_investing\"]),(json_data06[\"data_investing\"]),(json_data07[\"data_investing\"]),(json_data08[\"data_investing\"])]\n",
    "total=0\n",
    "for i in list1:\n",
    "    total= total+len(i)\n",
    "print(total)"
   ]
  },
  {
   "cell_type": "code",
   "execution_count": null,
   "metadata": {},
   "outputs": [],
   "source": [
    "# print(json_datas)"
   ]
  },
  {
   "cell_type": "code",
   "execution_count": null,
   "metadata": {},
   "outputs": [],
   "source": [
    "json_datas=pd.DataFrame(json_datas)\n",
    "json_datas.to_csv(\"json_datas.csv\",mode='w')"
   ]
  },
  {
   "cell_type": "code",
   "execution_count": null,
   "metadata": {},
   "outputs": [],
   "source": [
    "json_datas=pd.read_csv(\"json_datas.csv\", index_col=0)"
   ]
  },
  {
   "cell_type": "code",
   "execution_count": null,
   "metadata": {},
   "outputs": [],
   "source": [
    "print(\"중복삭제전\")\n",
    "print(len(json_datas))\n",
    "\n",
    "#중복데이터 제거\n",
    "json_datas= json_datas.drop_duplicates(['url'], ignore_index = True)\n",
    "\n",
    "print(\"중복삭제후\")\n",
    "print(len(json_datas)) \n",
    "\n",
    "json_datas.to_csv(\"json_datas(중복제거).csv\", mode='w')"
   ]
  },
  {
   "cell_type": "code",
   "execution_count": null,
   "metadata": {},
   "outputs": [],
   "source": [
    "json_datas=pd.read_csv(\"json_datas(중복제거).csv\", index_col=0)"
   ]
  },
  {
   "cell_type": "code",
   "execution_count": null,
   "metadata": {
    "scrolled": true
   },
   "outputs": [],
   "source": [
    "json_datas"
   ]
  },
  {
   "cell_type": "code",
   "execution_count": null,
   "metadata": {},
   "outputs": [],
   "source": [
    "docgroup=json_datas.groupby('docsent')"
   ]
  },
  {
   "cell_type": "code",
   "execution_count": null,
   "metadata": {},
   "outputs": [],
   "source": [
    "docgroup.size()"
   ]
  },
  {
   "cell_type": "code",
   "execution_count": null,
   "metadata": {},
   "outputs": [],
   "source": [
    "docgroup['sentscore'].describe() #std:표준편차"
   ]
  },
  {
   "cell_type": "code",
   "execution_count": null,
   "metadata": {},
   "outputs": [],
   "source": [
    "pos=json_datas[json_datas[\"docsent\"]==\"positive\"]\n",
    "pos=pos.reset_index(drop=True)\n",
    "pos"
   ]
  },
  {
   "cell_type": "code",
   "execution_count": null,
   "metadata": {
    "scrolled": true
   },
   "outputs": [],
   "source": [
    "nag=json_datas[json_datas[\"docsent\"]==\"negative\"]\n",
    "nag=nag.reset_index(drop=True)\n",
    "nag"
   ]
  },
  {
   "cell_type": "code",
   "execution_count": null,
   "metadata": {
    "scrolled": true
   },
   "outputs": [],
   "source": [
    "neu=json_datas[json_datas[\"docsent\"]==\"neutral\"]\n",
    "neu=neu.reset_index(drop=True)\n",
    "neu"
   ]
  },
  {
   "cell_type": "code",
   "execution_count": null,
   "metadata": {},
   "outputs": [],
   "source": [
    "pos.to_csv(\"pos.csv\", mode='w')\n",
    "nag.to_csv(\"nag.csv\", mode='w')\n",
    "neu.to_csv(\"neu.csv\", mode='w')"
   ]
  },
  {
   "cell_type": "code",
   "execution_count": null,
   "metadata": {},
   "outputs": [],
   "source": [
    "pos=pd.read_csv(\"pos.csv\", index_col=0)\n",
    "nag=pd.read_csv(\"nag.csv\", index_col=0)\n",
    "neu=pd.read_csv(\"neu.csv\", index_col=0)\n",
    "print(pos)\n",
    "print(nag)\n",
    "print(neu)"
   ]
  },
  {
   "cell_type": "code",
   "execution_count": null,
   "metadata": {},
   "outputs": [],
   "source": [
    "pos['title']=pos['title'].str.replace(\"[^ㄱ-하-ㅣ가-힣 ]\",\" \") #한글 및 띄어쓰기 이외의 부분 제거\n",
    "nag['title']=nag['title'].str.replace(\"[^ㄱ-하-ㅣ가-힣 ]\",\" \") \n",
    "neu['title']=neu['title'].str.replace(\"[^ㄱ-하-ㅣ가-힣 ]\",\" \") \n",
    "pos['text']=pos['text'].str.replace(\"[^ㄱ-하-ㅣ가-힣 ]\",\" \")\n",
    "nag['text']=nag['text'].str.replace(\"[^ㄱ-하-ㅣ가-힣 ]\",\" \")\n",
    "neu['text']=neu['text'].str.replace(\"[^ㄱ-하-ㅣ가-힣 ]\",\" \")\n",
    "print(pos)\n",
    "print(nag)\n",
    "print(neu)"
   ]
  },
  {
   "cell_type": "code",
   "execution_count": null,
   "metadata": {},
   "outputs": [],
   "source": [
    "pos['tt']=pos['text'].str.cat(pos['title'], sep=' ', na_rep='')\n",
    "nag['tt']=nag['text'].str.cat(nag['title'], sep=' ', na_rep='')\n",
    "neu['tt']=neu['text'].str.cat(neu['title'], sep=' ', na_rep='')\n",
    "print(pos)\n",
    "print(nag)\n",
    "print(neu)"
   ]
  },
  {
   "cell_type": "code",
   "execution_count": null,
   "metadata": {},
   "outputs": [],
   "source": [
    "pos.to_csv(\"pos(특수문자제거,tt추가).csv\", mode='w')\n",
    "nag.to_csv(\"nag(특수문자제거,tt추가).csv\", mode='w')\n",
    "neu.to_csv(\"neu(특수문자제거,tt추가).csv\", mode='w')\n"
   ]
  },
  {
   "cell_type": "code",
   "execution_count": null,
   "metadata": {},
   "outputs": [],
   "source": [
    "pos=pd.read_csv(\"pos(특수문자제거,tt추가).csv\", index_col=0)\n",
    "nag=pd.read_csv(\"nag(특수문자제거,tt추가).csv\", index_col=0)\n",
    "neu=pd.read_csv(\"neu(특수문자제거,tt추가).csv\", index_col=0)\n",
    "print(pos)\n",
    "print(nag)\n",
    "print(neu)"
   ]
  },
  {
   "cell_type": "code",
   "execution_count": null,
   "metadata": {},
   "outputs": [],
   "source": [
    "from konlpy.tag import Okt\n",
    "okt=Okt()"
   ]
  },
  {
   "cell_type": "code",
   "execution_count": null,
   "metadata": {
    "scrolled": true
   },
   "outputs": [],
   "source": [
    "stopwords = pd.read_csv(\"stopwords.csv\")\n",
    "stopwords = list(stopwords[\"stopword\"])\n",
    "print(stopwords)"
   ]
  },
  {
   "cell_type": "code",
   "execution_count": null,
   "metadata": {},
   "outputs": [],
   "source": [
    "nouns=[]\n",
    "\n",
    "for i in range(len(pos['tt'])):\n",
    "    token= okt.nouns(pos['tt'][i])\n",
    "    print(\"token1\", token)\n",
    "    token = [t for t in token if t not in stopwords]\n",
    "    print(\"token2\", token)\n",
    "    nouns.append(token)\n",
    "    print(i/len(pos['tt'])*100,\"%\")\n",
    "pos['tt']=nouns\n",
    "\n",
    "nouns=[]\n",
    "for i in range(len(nag['tt'])):\n",
    "    token= okt.nouns(nag['tt'][i])\n",
    "    print(\"token1\", token)\n",
    "    token = [t for t in token if t not in stopwords]\n",
    "    print(\"token2\", token)\n",
    "    nouns.append(token)\n",
    "    print(i/len(nag['tt'])*100,\"%\")\n",
    "nag['tt']=nouns\n",
    "\n",
    "nouns=[]\n",
    "for i in range(len(neu['tt'])):\n",
    "    token= okt.nouns(neu['tt'][i])\n",
    "    print(\"token1\", token)\n",
    "    token = [t for t in token if t not in stopwords]\n",
    "    print(\"token2\", token)\n",
    "    nouns.append(token)\n",
    "    print(i/len(neu['tt'])*100,\"%\")\n",
    "neu['tt']=nouns"
   ]
  },
  {
   "cell_type": "code",
   "execution_count": null,
   "metadata": {},
   "outputs": [],
   "source": [
    "print(pos)\n",
    "print(nag)\n",
    "print(neu)"
   ]
  },
  {
   "cell_type": "code",
   "execution_count": null,
   "metadata": {},
   "outputs": [],
   "source": [
    "for i in range(len(pos)):\n",
    "    pos['tt'][i]=\" \".join(pos['tt'][i])\n",
    "    \n",
    "for i in range(len(nag)):\n",
    "    nag['tt'][i]=\" \".join(nag['tt'][i])\n",
    "    \n",
    "for i in range(len(neu)):\n",
    "    neu['tt'][i]=\" \".join(neu['tt'][i])\n",
    "    \n",
    "print(pos)\n",
    "print(nag)\n",
    "print(neu)"
   ]
  },
  {
   "cell_type": "code",
   "execution_count": null,
   "metadata": {},
   "outputs": [],
   "source": [
    "pos.to_csv(\"pos(tt명사추출).csv\", mode='w')\n",
    "nag.to_csv(\"nag(tt명사추출).csv\", mode='w')\n",
    "neu.to_csv(\"neu(tt명사추출).csv\", mode='w')"
   ]
  },
  {
   "cell_type": "code",
   "execution_count": null,
   "metadata": {},
   "outputs": [],
   "source": [
    "pos=pd.read_csv(\"pos(tt명사추출).csv\", index_col=0)\n",
    "nag=pd.read_csv(\"nag(tt명사추출).csv\", index_col=0)\n",
    "# for i in range(len(pos)):\n",
    "#     pos['tt'][i]=eval((pos['tt'][i]))\n",
    "# for i in range(len(nag)):\n",
    "#     nag['tt'][i]=eval((nag['tt'][i]))\n",
    "print(pos)\n",
    "print(nag)"
   ]
  },
  {
   "cell_type": "code",
   "execution_count": null,
   "metadata": {
    "scrolled": true
   },
   "outputs": [],
   "source": [
    "\n",
    "print(nag['tt'])\n",
    "print(nag['tt'].isnull().sum())\n",
    "nag1=nag['tt'].dropna()\n",
    "# test['title'].dropna()\n",
    "nag1=nag1.reset_index()\n",
    "nag1=nag1.tt\n",
    "print(\"nag1\",nag1.isnull().sum())\n",
    "print(nag1)"
   ]
  },
  {
   "cell_type": "code",
   "execution_count": null,
   "metadata": {},
   "outputs": [],
   "source": [
    "wc_word=[]\n",
    "word_list=[]\n",
    "for i in range(len(nag1)):\n",
    "    wc_word.append(nag1[i].split(' '))\n",
    "for j in range(len(wc_word)):\n",
    "    for k in range(len(wc_word[j])):\n",
    "        word_list.append(wc_word[j][k])\n"
   ]
  },
  {
   "cell_type": "code",
   "execution_count": null,
   "metadata": {
    "scrolled": true
   },
   "outputs": [],
   "source": [
    "print(wc_word)\n",
    "print(word_list)"
   ]
  },
  {
   "cell_type": "code",
   "execution_count": null,
   "metadata": {
    "scrolled": true
   },
   "outputs": [],
   "source": [
    "print(type(word_list))\n",
    "dict={}\n",
    "dict=collections.Counter(word_list)\n"
   ]
  },
  {
   "cell_type": "code",
   "execution_count": null,
   "metadata": {},
   "outputs": [],
   "source": [
    "print(dict)"
   ]
  },
  {
   "cell_type": "code",
   "execution_count": null,
   "metadata": {},
   "outputs": [],
   "source": []
  },
  {
   "cell_type": "code",
   "execution_count": null,
   "metadata": {
    "scrolled": true
   },
   "outputs": [],
   "source": [
    "type(pos['tt'])\n",
    "print(pos['tt'])\n",
    "print(pos['tt'].isnull().sum())\n",
    "pos1=pos['tt'].dropna()\n",
    "# test['title'].dropna()\n",
    "pos1=pos1.reset_index()\n",
    "pos1=pos1.tt\n",
    "print(\"pos1\",pos1.isnull().sum())\n",
    "print(pos1)"
   ]
  },
  {
   "cell_type": "code",
   "execution_count": null,
   "metadata": {},
   "outputs": [],
   "source": [
    "wc_word=[]\n",
    "word_list=[]\n",
    "for i in range(len(pos1)):\n",
    "    wc_word.append(pos1[i].split(' '))\n",
    "for j in range(len(wc_word)):\n",
    "    for k in range(len(wc_word[j])):\n",
    "        word_list.append(wc_word[j][k])\n"
   ]
  },
  {
   "cell_type": "code",
   "execution_count": null,
   "metadata": {},
   "outputs": [],
   "source": [
    "print(wc_word)\n",
    "print(word_list)"
   ]
  },
  {
   "cell_type": "code",
   "execution_count": null,
   "metadata": {},
   "outputs": [],
   "source": [
    "print(type(word_list))\n",
    "dict={}\n",
    "dict=collections.Counter(word_list)\n",
    "print(dict)"
   ]
  },
  {
   "cell_type": "code",
   "execution_count": null,
   "metadata": {},
   "outputs": [],
   "source": []
  }
 ],
 "metadata": {
  "kernelspec": {
   "display_name": "Python 3 (ipykernel)",
   "language": "python",
   "name": "python3"
  },
  "language_info": {
   "codemirror_mode": {
    "name": "ipython",
    "version": 3
   },
   "file_extension": ".py",
   "mimetype": "text/x-python",
   "name": "python",
   "nbconvert_exporter": "python",
   "pygments_lexer": "ipython3",
   "version": "3.8.8"
  },
  "toc": {
   "base_numbering": 1,
   "nav_menu": {},
   "number_sections": true,
   "sideBar": true,
   "skip_h1_title": false,
   "title_cell": "Table of Contents",
   "title_sidebar": "Contents",
   "toc_cell": false,
   "toc_position": {},
   "toc_section_display": true,
   "toc_window_display": false
  }
 },
 "nbformat": 4,
 "nbformat_minor": 4
}
